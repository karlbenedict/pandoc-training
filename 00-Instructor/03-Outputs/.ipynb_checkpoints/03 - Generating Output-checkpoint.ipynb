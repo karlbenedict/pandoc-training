{
 "cells": [
  {
   "cell_type": "markdown",
   "metadata": {},
   "source": [
    "# Generating Output from Your Markdown Files\n",
    "\n",
    "There are many options avaialable when executing the Pandoc processor from the command line. While a number of examples were provided in [](../01-HelloWorld/01%20-%20Introduction%20to%20Pandoc.ipynb) this notebook is intended to provide a high-level overview of some of the more important options that are available when you run Pandoc to generate an output file. \n",
    "\n",
    "For complete documentation of the command options refer to the options secion of the [Pandoc User's Guide](http://pandoc.org/MANUAL.html#options).\n",
    "\n"
   ]
  }
 ],
 "metadata": {
  "kernelspec": {
   "display_name": "Python 3",
   "language": "python",
   "name": "python3"
  },
  "language_info": {
   "codemirror_mode": {
    "name": "ipython",
    "version": 3
   },
   "file_extension": ".py",
   "mimetype": "text/x-python",
   "name": "python",
   "nbconvert_exporter": "python",
   "pygments_lexer": "ipython3",
   "version": "3.5.2"
  }
 },
 "nbformat": 4,
 "nbformat_minor": 1
}
