{
 "cells": [
  {
   "cell_type": "code",
   "execution_count": 34,
   "metadata": {
    "collapsed": false
   },
   "outputs": [],
   "source": [
    "import subprocess\n",
    "import time\n",
    "import random, string\n",
    "\n",
    "def randomword(length):\n",
    "   return ''.join(random.choice(string.ascii_lowercase) for i in range(length))"
   ]
  },
  {
   "cell_type": "code",
   "execution_count": 35,
   "metadata": {
    "collapsed": false
   },
   "outputs": [
    {
     "name": "stdout",
     "output_type": "stream",
     "text": [
      "/home/jovyan/work/01-Command-Line\n",
      "/home/jovyan/work/01-Command-Line\r\n"
     ]
    }
   ],
   "source": [
    "# set the working directory for the rest of the demonstration\n",
    "%cd ~/work/01-Command-Line/\n",
    "!pwd"
   ]
  },
  {
   "cell_type": "code",
   "execution_count": 38,
   "metadata": {
    "collapsed": false
   },
   "outputs": [],
   "source": [
    "directories = [\"hill01\",\"hill02\",\"hill03\",\"hill04\",\"hill05\"]\n",
    "\n",
    "for dir in directories:\n",
    "    try:\n",
    "        commandString = 'rm -rf %s'%(dir)\n",
    "        #print(commandString)\n",
    "        result = subprocess.call([commandString], shell=True)\n",
    "        #print(result)\n",
    "    except:\n",
    "        print(\"failed to remove the directory\")\n",
    "        \n",
    "    commandString = \"mkdir %s\"%(dir)\n",
    "    subprocess.call([commandString], shell=True)\n",
    "    \n",
    "i = 0\n",
    "while i < 60:\n",
    "    filename = \"xx_\"+randomword(5)\n",
    "    dir = random.choice(directories)\n",
    "    commandString = \"touch %s/%s\"%(dir,filename)\n",
    "    subprocess.call([commandString],shell=True)\n",
    "    time.sleep(3)\n",
    "    i +=1"
   ]
  },
  {
   "cell_type": "code",
   "execution_count": 39,
   "metadata": {
    "collapsed": false
   },
   "outputs": [
    {
     "name": "stdout",
     "output_type": "stream",
     "text": [
      "./hill01/xx_apdvu\n",
      "./hill01/xx_bssse\n",
      "./hill01/xx_dwxdr\n",
      "./hill01/xx_esofz\n",
      "./hill01/xx_fktqm\n",
      "./hill01/xx_ndgax\n",
      "./hill01/xx_qarqo\n",
      "./hill01/xx_qrvhw\n",
      "./hill01/xx_sjvim\n",
      "./hill01/xx_spzbc\n",
      "./hill01/xx_touqu\n",
      "./hill01/xx_uwugl\n",
      "./hill01/xx_vomqg\n",
      "./hill01/xx_wmuiy\n",
      "./hill02/xx_awpml\n",
      "./hill02/xx_dimoq\n",
      "./hill02/xx_eggac\n",
      "./hill02/xx_faldv\n",
      "./hill02/xx_gjkvz\n",
      "./hill02/xx_gpzav\n",
      "./hill02/xx_grews\n",
      "./hill02/xx_ieyhh\n",
      "./hill02/xx_inlhn\n",
      "./hill02/xx_lmydz\n",
      "./hill02/xx_mikpe\n",
      "./hill02/xx_txmbn\n",
      "./hill02/xx_uupcn\n",
      "./hill02/xx_xrgjp\n",
      "./hill03/xx_azmnt\n",
      "./hill03/xx_btqoq\n",
      "./hill03/xx_fhbqa\n",
      "./hill03/xx_idyzk\n",
      "./hill03/xx_ikoyr\n",
      "./hill03/xx_jawfc\n",
      "./hill03/xx_kbqoh\n",
      "./hill03/xx_kcuuj\n",
      "./hill03/xx_kmfjy\n",
      "./hill03/xx_nfxuv\n",
      "./hill03/xx_oazou\n",
      "./hill03/xx_prxyg\n",
      "./hill03/xx_wzxfy\n",
      "./hill04/xx_cdzeg\n",
      "./hill04/xx_gjequ\n",
      "./hill04/xx_ifdxs\n",
      "./hill04/xx_qqydl\n",
      "./hill04/xx_szcyy\n",
      "./hill04/xx_uamdx\n",
      "./hill04/xx_yheqr\n",
      "./hill05/xx_aauco\n",
      "./hill05/xx_aqemk\n",
      "./hill05/xx_dmcis\n",
      "./hill05/xx_fxevr\n",
      "./hill05/xx_heray\n",
      "./hill05/xx_lsndk\n",
      "./hill05/xx_nujun\n",
      "./hill05/xx_qbuau\n",
      "./hill05/xx_rcfrk\n",
      "./hill05/xx_tjexe\n",
      "./hill05/xx_uwila\n",
      "./hill05/xx_yosel\n",
      "./.yournetid/hill01/xx_capam\n",
      "./.yournetid/hill01/xx_cbtwn\n",
      "./.yournetid/hill01/xx_dires\n",
      "./.yournetid/hill01/xx_inckd\n",
      "./.yournetid/hill01/xx_jnmjz\n",
      "./.yournetid/hill01/xx_kchyd\n",
      "./.yournetid/hill01/xx_mxsly\n",
      "./.yournetid/hill01/xx_nkztd\n",
      "./.yournetid/hill01/xx_pjkll\n",
      "./.yournetid/hill01/xx_sijdl\n",
      "./.yournetid/hill01/xx_uehoc\n",
      "./.yournetid/hill01/xx_vxoao\n",
      "./.yournetid/hill01/xx_zjldg\n",
      "./.yournetid/hill01/xx_zjtwh\n",
      "./.yournetid/hill02/xx_blcot\n",
      "./.yournetid/hill02/xx_cajgx\n",
      "./.yournetid/hill02/xx_fwhmu\n",
      "./.yournetid/hill02/xx_hwtxi\n",
      "./.yournetid/hill02/xx_owmjm\n",
      "./.yournetid/hill02/xx_quufr\n",
      "./.yournetid/hill02/xx_sszys\n",
      "./.yournetid/hill02/xx_uetcj\n",
      "./.yournetid/hill02/xx_wfwhl\n",
      "./.yournetid/hill03/xx_aodhj\n",
      "./.yournetid/hill03/xx_buipy\n",
      "./.yournetid/hill03/xx_diouh\n",
      "./.yournetid/hill03/xx_fjfxs\n",
      "./.yournetid/hill03/xx_fncnk\n",
      "./.yournetid/hill03/xx_kmfxm\n",
      "./.yournetid/hill03/xx_lasem\n",
      "./.yournetid/hill03/xx_mncmw\n",
      "./.yournetid/hill03/xx_vnevc\n",
      "./.yournetid/hill03/xx_wnnbw\n",
      "./.yournetid/hill03/xx_yhzwi\n",
      "./.yournetid/hill03/xx_yvqsn\n",
      "./.yournetid/hill04/xx_akyuh\n",
      "./.yournetid/hill04/xx_chgmp\n",
      "./.yournetid/hill04/xx_gfpkd\n",
      "./.yournetid/hill04/xx_ikgqv\n",
      "./.yournetid/hill04/xx_jjwcj\n",
      "./.yournetid/hill04/xx_natps\n",
      "./.yournetid/hill04/xx_nssvx\n",
      "./.yournetid/hill04/xx_olvom\n",
      "./.yournetid/hill04/xx_qwnwv\n",
      "./.yournetid/hill04/xx_riwxa\n",
      "./.yournetid/hill04/xx_savzf\n",
      "./.yournetid/hill04/xx_vdtul\n",
      "./.yournetid/hill04/xx_wzily\n",
      "./.yournetid/hill04/xx_zaeip\n",
      "./.yournetid/hill05/xx_edppe\n",
      "./.yournetid/hill05/xx_gkfug\n",
      "./.yournetid/hill05/xx_gxdjo\n",
      "./.yournetid/hill05/xx_kcubn\n",
      "./.yournetid/hill05/xx_mbkaf\n",
      "./.yournetid/hill05/xx_nlglz\n",
      "./.yournetid/hill05/xx_ovade\n",
      "./.yournetid/hill05/xx_qxtij\n",
      "./.yournetid/hill05/xx_uiyfy\n",
      "./.yournetid/hill05/xx_vkvmo\n",
      "./.yournetid/hill05/xx_vqqrq\n",
      "./.yournetid/torran/xx_capam\n",
      "./.yournetid/torran/xx_cbtwn\n",
      "./.yournetid/torran/xx_dires\n",
      "./.yournetid/torran/xx_inckd\n",
      "./.yournetid/torran/xx_jnmjz\n",
      "./.yournetid/torran/xx_kchyd\n",
      "./.yournetid/torran/xx_mxsly\n",
      "./.yournetid/torran/xx_nkztd\n",
      "./.yournetid/torran/xx_pjkll\n",
      "./.yournetid/torran/xx_sijdl\n",
      "./.yournetid/torran/xx_uehoc\n",
      "./.yournetid/torran/xx_vxoao\n",
      "./.yournetid/torran/xx_zjldg\n",
      "./.yournetid/torran/xx_zjtwh\n"
     ]
    }
   ],
   "source": [
    "%%bash\n",
    "find -type f -iname \"??_*\" | sort"
   ]
  },
  {
   "cell_type": "code",
   "execution_count": null,
   "metadata": {
    "collapsed": true
   },
   "outputs": [],
   "source": []
  }
 ],
 "metadata": {
  "kernelspec": {
   "display_name": "Python 3",
   "language": "python",
   "name": "python3"
  },
  "language_info": {
   "codemirror_mode": {
    "name": "ipython",
    "version": 3
   },
   "file_extension": ".py",
   "mimetype": "text/x-python",
   "name": "python",
   "nbconvert_exporter": "python",
   "pygments_lexer": "ipython3",
   "version": "3.5.2"
  }
 },
 "nbformat": 4,
 "nbformat_minor": 1
}
