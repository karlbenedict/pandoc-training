{
 "cells": [
  {
   "cell_type": "code",
   "execution_count": 15,
   "metadata": {
    "collapsed": false
   },
   "outputs": [],
   "source": [
    "import subprocess\n",
    "import time\n",
    "import random, string\n",
    "\n",
    "def randomword(length):\n",
    "   return ''.join(random.choice(string.ascii_lowercase) for i in range(length))"
   ]
  },
  {
   "cell_type": "code",
   "execution_count": 16,
   "metadata": {
    "collapsed": false
   },
   "outputs": [
    {
     "name": "stdout",
     "output_type": "stream",
     "text": [
      "/home/jovyan/work/01-Command-Line\n",
      "/home/jovyan/work/01-Command-Line\r\n"
     ]
    }
   ],
   "source": [
    "# set the working directory for the rest of the demonstration\n",
    "%cd ~/work/01-Command-Line/\n",
    "!pwd"
   ]
  },
  {
   "cell_type": "code",
   "execution_count": 31,
   "metadata": {
    "collapsed": false
   },
   "outputs": [],
   "source": [
    "directories = [\"hill01\",\"hill02\",\"hill03\",\"hill04\",\"hill05\"]\n",
    "\n",
    "for dir in directories:\n",
    "    try:\n",
    "        commandString = 'rm -rf %s'%(dir)\n",
    "        #print(commandString)\n",
    "        result = subprocess.call([commandString], shell=True)\n",
    "        #print(result)\n",
    "    except:\n",
    "        print(\"failed to remove the directory\")\n",
    "        \n",
    "    commandString = \"mkdir %s\"%(dir)\n",
    "    subprocess.call([commandString], shell=True)\n",
    "    \n",
    "i = 0\n",
    "while i < 60:\n",
    "    filename = \"xx_\"+randomword(5)\n",
    "    dir = random.choice(directories)\n",
    "    commandString = \"touch %s/%s\"%(dir,filename)\n",
    "    subprocess.call([commandString],shell=True)\n",
    "    time.sleep(3)\n",
    "    i +=1"
   ]
  },
  {
   "cell_type": "code",
   "execution_count": 33,
   "metadata": {
    "collapsed": false
   },
   "outputs": [
    {
     "name": "stdout",
     "output_type": "stream",
     "text": [
      "./hill01/xx_bosse\n",
      "./hill01/xx_duuax\n",
      "./hill01/xx_emgum\n",
      "./hill01/xx_ljffd\n",
      "./hill01/xx_nusxr\n",
      "./hill01/xx_oeati\n",
      "./hill01/xx_oigux\n",
      "./hill01/xx_qzmte\n",
      "./hill01/xx_riqgi\n",
      "./hill01/xx_uayec\n",
      "./hill01/xx_ulaew\n",
      "./hill01/xx_vlpxx\n",
      "./hill01/xx_vxzpn\n",
      "./hill01/xx_wgysq\n",
      "./hill01/xx_yacjw\n",
      "./hill02/xx_botst\n",
      "./hill02/xx_ddapj\n",
      "./hill02/xx_gtjei\n",
      "./hill02/xx_gumql\n",
      "./hill02/xx_izclr\n",
      "./hill02/xx_kxljv\n",
      "./hill02/xx_ljwle\n",
      "./hill02/xx_lshmw\n",
      "./hill02/xx_nucqt\n",
      "./hill02/xx_tnfwj\n",
      "./hill02/xx_tsepg\n",
      "./hill02/xx_vodrt\n",
      "./hill02/xx_xohvs\n",
      "./hill02/xx_zjvit\n",
      "./hill03/xx_avsyj\n",
      "./hill03/xx_esfof\n",
      "./hill03/xx_fsxgd\n",
      "./hill03/xx_gzjfk\n",
      "./hill03/xx_hlkzy\n",
      "./hill03/xx_ijqlh\n",
      "./hill03/xx_kvnoe\n",
      "./hill03/xx_msghk\n",
      "./hill03/xx_nioim\n",
      "./hill03/xx_tdpes\n",
      "./hill03/xx_wefdv\n",
      "./hill03/xx_xcfbr\n",
      "./hill03/xx_ymlzp\n",
      "./hill04/xx_bnneu\n",
      "./hill04/xx_ggtqu\n",
      "./hill04/xx_icugx\n",
      "./hill04/xx_iwojz\n",
      "./hill04/xx_jizjt\n",
      "./hill04/xx_klrgj\n",
      "./hill04/xx_smctm\n",
      "./hill04/xx_vkmai\n",
      "./hill04/xx_zyaxt\n",
      "./hill05/xx_dsmxz\n",
      "./hill05/xx_dysyc\n",
      "./hill05/xx_gqrct\n",
      "./hill05/xx_iplol\n",
      "./hill05/xx_jktza\n",
      "./hill05/xx_qnvzh\n",
      "./hill05/xx_tiqxb\n",
      "./hill05/xx_uirid\n",
      "./hill05/xx_vhvad\n"
     ]
    }
   ],
   "source": [
    "%%bash\n",
    "find -type f -iname \"??_*\" | sort"
   ]
  },
  {
   "cell_type": "code",
   "execution_count": null,
   "metadata": {
    "collapsed": true
   },
   "outputs": [],
   "source": []
  }
 ],
 "metadata": {
  "kernelspec": {
   "display_name": "Python 3",
   "language": "python",
   "name": "python3"
  },
  "language_info": {
   "codemirror_mode": {
    "name": "ipython",
    "version": 3
   },
   "file_extension": ".py",
   "mimetype": "text/x-python",
   "name": "python",
   "nbconvert_exporter": "python",
   "pygments_lexer": "ipython3",
   "version": "3.5.2"
  }
 },
 "nbformat": 4,
 "nbformat_minor": 1
}
